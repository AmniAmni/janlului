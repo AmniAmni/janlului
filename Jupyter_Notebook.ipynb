{
  "metadata": {
    "kernelspec": {
      "name": "python",
      "display_name": "Pyolite",
      "language": "python"
    },
    "language_info": {
      "codemirror_mode": {
        "name": "python",
        "version": 3
      },
      "file_extension": ".py",
      "mimetype": "text/x-python",
      "name": "python",
      "nbconvert_exporter": "python",
      "pygments_lexer": "ipython3",
      "version": "3.8"
    }
  },
  "nbformat_minor": 4,
  "nbformat": 4,
  "cells": [
    {
      "cell_type": "markdown",
      "source": "<center>\n    <img src=\"https://s3-api.us-geo.objectstorage.softlayer.net/cf-courses-data/CognitiveClass/Logos/organization_logo/organization_logo.png\" width=\"300\" alt=\"cognitiveclass.ai logo\"  />\n</center>\n",
      "metadata": {}
    },
    {
      "cell_type": "markdown",
      "source": "#### Add your code below following the instructions given in the course\n",
      "metadata": {}
    },
    {
      "cell_type": "markdown",
      "source": "# My Jupyter Notebook on IBM Watson Studio",
      "metadata": {}
    },
    {
      "cell_type": "markdown",
      "source": "**Amni Rizal**\n\nMy desired occupation is a data analyst.",
      "metadata": {}
    },
    {
      "cell_type": "markdown",
      "source": "*I am interested in data science because I can use data to understand how the world works*",
      "metadata": {}
    },
    {
      "cell_type": "markdown",
      "source": "### The Following Code will generate a random integer between 80 and 100",
      "metadata": {}
    },
    {
      "cell_type": "code",
      "source": "import random\n\nRandom_int = random.randint(80,100)\n\nprint(Random_int)",
      "metadata": {
        "trusted": true
      },
      "execution_count": 1,
      "outputs": [
        {
          "name": "stdout",
          "text": "91\n",
          "output_type": "stream"
        }
      ]
    },
    {
      "cell_type": "markdown",
      "source": "Recipe videos of food I ~~fucking~~ enjoy eating:\n1. Laksa \n[laksa recipe](https://www.youtube.com/watch?v=ssOi5GudOX0)\n\n2. Chicken rice\n[chicken](https://www.youtube.com/watch?v=PKvItPZhHjM)\n\n3. Soto\n[i'm an inline-style link](https://www.youtube.com/watch?v=CdhXlFuh2hw) \n\n",
      "metadata": {}
    },
    {
      "cell_type": "code",
      "source": "",
      "metadata": {},
      "execution_count": null,
      "outputs": []
    }
  ]
}